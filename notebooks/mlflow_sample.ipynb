{
 "cells": [
  {
   "cell_type": "code",
   "execution_count": 1,
   "metadata": {},
   "outputs": [
    {
     "name": "stdout",
     "output_type": "stream",
     "text": [
      "INFO: 'mlflow_experiments' does not exist. Creating a new experiment\n"
     ]
    }
   ],
   "source": [
    "import mlflow\n",
    "mlflow.set_experiment('mlflow_experiments')\n",
    "with mlflow.start_run():\n",
    "    mlflow.log_param(\"name\",\"mlflow_test\")\n",
    "    mlflow.log_param(\"category\",\"algorithm\")\n",
    "    mlflow.log_param(\"type\",\"classification\")\n",
    "    for i in range(5):\n",
    "        mlflow.log_metric(\"i\",i,step=i)\n",
    "    mlflow.log_artifact(\"mlflow_sample.ipynb\")\n",
    "    "
   ]
  },
  {
   "cell_type": "code",
   "execution_count": null,
   "metadata": {},
   "outputs": [],
   "source": []
  }
 ],
 "metadata": {
  "kernelspec": {
   "display_name": "Python 3",
   "language": "python",
   "name": "python3"
  },
  "language_info": {
   "codemirror_mode": {
    "name": "ipython",
    "version": 3
   },
   "file_extension": ".py",
   "mimetype": "text/x-python",
   "name": "python",
   "nbconvert_exporter": "python",
   "pygments_lexer": "ipython3",
   "version": "3.8.5"
  }
 },
 "nbformat": 4,
 "nbformat_minor": 4
}
