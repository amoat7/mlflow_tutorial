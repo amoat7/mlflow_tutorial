{
 "cells": [
  {
   "cell_type": "markdown",
   "metadata": {},
   "source": [
    "# Importing packages"
   ]
  },
  {
   "cell_type": "code",
   "execution_count": 1,
   "metadata": {},
   "outputs": [],
   "source": [
    "import pandas as pd \n",
    "import numpy as np \n",
    "import mlflow\n",
    "import mlflow.keras\n",
    "from tensorflow import keras\n",
    "import tensorflow\n",
    "from sklearn.metrics import f1_score, confusion_matrix \n",
    "from sklearn.model_selection import train_test_split \n",
    "from sklearn.linear_model import LogisticRegression\n",
    "from sklearn.preprocessing import MinMaxScaler"
   ]
  },
  {
   "cell_type": "code",
   "execution_count": 2,
   "metadata": {},
   "outputs": [
    {
     "data": {
      "text/html": [
       "<div>\n",
       "<style scoped>\n",
       "    .dataframe tbody tr th:only-of-type {\n",
       "        vertical-align: middle;\n",
       "    }\n",
       "\n",
       "    .dataframe tbody tr th {\n",
       "        vertical-align: top;\n",
       "    }\n",
       "\n",
       "    .dataframe thead th {\n",
       "        text-align: right;\n",
       "    }\n",
       "</style>\n",
       "<table border=\"1\" class=\"dataframe\">\n",
       "  <thead>\n",
       "    <tr style=\"text-align: right;\">\n",
       "      <th></th>\n",
       "      <th>0</th>\n",
       "      <th>1</th>\n",
       "      <th>2</th>\n",
       "      <th>3</th>\n",
       "      <th>4</th>\n",
       "      <th>5</th>\n",
       "      <th>6</th>\n",
       "      <th>7</th>\n",
       "      <th>8</th>\n",
       "    </tr>\n",
       "  </thead>\n",
       "  <tbody>\n",
       "    <tr>\n",
       "      <th>0</th>\n",
       "      <td>6</td>\n",
       "      <td>148</td>\n",
       "      <td>72</td>\n",
       "      <td>35</td>\n",
       "      <td>0</td>\n",
       "      <td>33.6</td>\n",
       "      <td>0.627</td>\n",
       "      <td>50</td>\n",
       "      <td>1</td>\n",
       "    </tr>\n",
       "    <tr>\n",
       "      <th>1</th>\n",
       "      <td>1</td>\n",
       "      <td>85</td>\n",
       "      <td>66</td>\n",
       "      <td>29</td>\n",
       "      <td>0</td>\n",
       "      <td>26.6</td>\n",
       "      <td>0.351</td>\n",
       "      <td>31</td>\n",
       "      <td>0</td>\n",
       "    </tr>\n",
       "    <tr>\n",
       "      <th>2</th>\n",
       "      <td>8</td>\n",
       "      <td>183</td>\n",
       "      <td>64</td>\n",
       "      <td>0</td>\n",
       "      <td>0</td>\n",
       "      <td>23.3</td>\n",
       "      <td>0.672</td>\n",
       "      <td>32</td>\n",
       "      <td>1</td>\n",
       "    </tr>\n",
       "    <tr>\n",
       "      <th>3</th>\n",
       "      <td>1</td>\n",
       "      <td>89</td>\n",
       "      <td>66</td>\n",
       "      <td>23</td>\n",
       "      <td>94</td>\n",
       "      <td>28.1</td>\n",
       "      <td>0.167</td>\n",
       "      <td>21</td>\n",
       "      <td>0</td>\n",
       "    </tr>\n",
       "    <tr>\n",
       "      <th>4</th>\n",
       "      <td>0</td>\n",
       "      <td>137</td>\n",
       "      <td>40</td>\n",
       "      <td>35</td>\n",
       "      <td>168</td>\n",
       "      <td>43.1</td>\n",
       "      <td>2.288</td>\n",
       "      <td>33</td>\n",
       "      <td>1</td>\n",
       "    </tr>\n",
       "  </tbody>\n",
       "</table>\n",
       "</div>"
      ],
      "text/plain": [
       "   0    1   2   3    4     5      6   7  8\n",
       "0  6  148  72  35    0  33.6  0.627  50  1\n",
       "1  1   85  66  29    0  26.6  0.351  31  0\n",
       "2  8  183  64   0    0  23.3  0.672  32  1\n",
       "3  1   89  66  23   94  28.1  0.167  21  0\n",
       "4  0  137  40  35  168  43.1  2.288  33  1"
      ]
     },
     "execution_count": 2,
     "metadata": {},
     "output_type": "execute_result"
    }
   ],
   "source": [
    "df = pd.read_csv('https://raw.githubusercontent.com/jbrownlee/Datasets/master/pima-indians-diabetes.data.csv', header=None)\n",
    "df.head()"
   ]
  },
  {
   "cell_type": "code",
   "execution_count": 3,
   "metadata": {},
   "outputs": [
    {
     "data": {
      "text/plain": [
       "array([1, 0])"
      ]
     },
     "execution_count": 3,
     "metadata": {},
     "output_type": "execute_result"
    }
   ],
   "source": [
    "df.iloc[:,-1].unique()"
   ]
  },
  {
   "cell_type": "code",
   "execution_count": 4,
   "metadata": {},
   "outputs": [
    {
     "data": {
      "text/plain": [
       "0    500\n",
       "1    268\n",
       "Name: 8, dtype: int64"
      ]
     },
     "execution_count": 4,
     "metadata": {},
     "output_type": "execute_result"
    }
   ],
   "source": [
    "df.iloc[:,-1].value_counts()"
   ]
  },
  {
   "cell_type": "markdown",
   "metadata": {},
   "source": [
    "# Data Preprocessing"
   ]
  },
  {
   "cell_type": "code",
   "execution_count": 5,
   "metadata": {},
   "outputs": [],
   "source": [
    "X = df.iloc[:,:-1]\n",
    "Y = df.iloc[:,-1]\n",
    "X_train, X_test, y_train, y_test = train_test_split(X, Y, test_size=0.33, random_state=0, stratify=Y)\n",
    "mx = MinMaxScaler()\n",
    "\n",
    "X_train = mx.fit_transform(X_train)\n",
    "X_test = mx.transform(X_test)\n"
   ]
  },
  {
   "cell_type": "markdown",
   "metadata": {},
   "source": [
    "# Setting up experiments"
   ]
  },
  {
   "cell_type": "code",
   "execution_count": 6,
   "metadata": {},
   "outputs": [],
   "source": [
    "mlflow.set_experiment(\"Baseline predictions\")\n",
    "mlflow.tensorflow.autolog()"
   ]
  },
  {
   "cell_type": "code",
   "execution_count": 8,
   "metadata": {},
   "outputs": [
    {
     "name": "stdout",
     "output_type": "stream",
     "text": [
      "Model: \"model\"\n",
      "_________________________________________________________________\n",
      "Layer (type)                 Output Shape              Param #   \n",
      "=================================================================\n",
      "input_2 (InputLayer)         [(None, 8)]               0         \n",
      "_________________________________________________________________\n",
      "dense (Dense)                (None, 6)                 54        \n",
      "_________________________________________________________________\n",
      "batch_normalization (BatchNo (None, 6)                 24        \n",
      "_________________________________________________________________\n",
      "dense_1 (Dense)              (None, 1)                 7         \n",
      "=================================================================\n",
      "Total params: 85\n",
      "Trainable params: 73\n",
      "Non-trainable params: 12\n",
      "_________________________________________________________________\n"
     ]
    },
    {
     "name": "stderr",
     "output_type": "stream",
     "text": [
      "/opt/conda/lib/python3.8/site-packages/tensorflow/python/keras/optimizer_v2/optimizer_v2.py:374: UserWarning: The `lr` argument is deprecated, use `learning_rate` instead.\n",
      "  warnings.warn(\n"
     ]
    }
   ],
   "source": [
    "input_ = keras.layers.Input(shape=X_train.shape[-1])\n",
    "layer1 = keras.layers.Dense(units=6, activation='relu')(input_)\n",
    "norm = keras.layers.BatchNormalization()(layer1)\n",
    "output  = keras.layers.Dense(units=1, activation='sigmoid')(norm)\n",
    "model = keras.Model(input_, output)\n",
    "model.compile(optimizer= keras.optimizers.Adam(lr=0.001),\n",
    "             loss = \"binary_crossentropy\",\n",
    "             metrics=\"Accuracy\")\n",
    "model.summary()"
   ]
  },
  {
   "cell_type": "code",
   "execution_count": 9,
   "metadata": {},
   "outputs": [
    {
     "name": "stdout",
     "output_type": "stream",
     "text": [
      "Epoch 1/20\n",
      " 1/16 [>.............................] - ETA: 12s - loss: 0.7246 - accuracy: 0.0000e+00WARNING:tensorflow:Callback method `on_train_batch_end` is slow compared to the batch time (batch time: 0.0020s vs `on_train_batch_end` time: 0.0064s). Check your callbacks.\n",
      "16/16 [==============================] - 1s 22ms/step - loss: 0.7087 - accuracy: 0.0000e+00 - val_loss: 0.7174 - val_accuracy: 0.0000e+00\n",
      "Epoch 2/20\n",
      "16/16 [==============================] - 0s 3ms/step - loss: 0.6912 - accuracy: 0.0000e+00 - val_loss: 0.7025 - val_accuracy: 0.0000e+00\n",
      "Epoch 3/20\n",
      "16/16 [==============================] - 0s 4ms/step - loss: 0.6768 - accuracy: 0.0000e+00 - val_loss: 0.6889 - val_accuracy: 0.0000e+00\n",
      "Epoch 4/20\n",
      "16/16 [==============================] - 0s 4ms/step - loss: 0.6526 - accuracy: 0.0000e+00 - val_loss: 0.6784 - val_accuracy: 0.0000e+00\n",
      "Epoch 5/20\n",
      "16/16 [==============================] - 0s 4ms/step - loss: 0.6533 - accuracy: 0.0000e+00 - val_loss: 0.6668 - val_accuracy: 0.0000e+00\n",
      "Epoch 6/20\n",
      "16/16 [==============================] - 0s 4ms/step - loss: 0.6369 - accuracy: 0.0000e+00 - val_loss: 0.6546 - val_accuracy: 0.0000e+00\n",
      "Epoch 7/20\n",
      "16/16 [==============================] - 0s 4ms/step - loss: 0.6295 - accuracy: 0.0000e+00 - val_loss: 0.6439 - val_accuracy: 0.0000e+00\n",
      "Epoch 8/20\n",
      "16/16 [==============================] - 0s 4ms/step - loss: 0.6181 - accuracy: 0.0000e+00 - val_loss: 0.6335 - val_accuracy: 0.0000e+00\n",
      "Epoch 9/20\n",
      "16/16 [==============================] - 0s 4ms/step - loss: 0.6056 - accuracy: 0.0000e+00 - val_loss: 0.6256 - val_accuracy: 0.0000e+00\n",
      "Epoch 10/20\n",
      "16/16 [==============================] - 0s 4ms/step - loss: 0.6014 - accuracy: 0.0000e+00 - val_loss: 0.6174 - val_accuracy: 0.0000e+00\n",
      "Epoch 11/20\n",
      "16/16 [==============================] - 0s 3ms/step - loss: 0.5947 - accuracy: 0.0000e+00 - val_loss: 0.6098 - val_accuracy: 0.0000e+00\n",
      "Epoch 12/20\n",
      "16/16 [==============================] - 0s 4ms/step - loss: 0.5861 - accuracy: 0.0000e+00 - val_loss: 0.6010 - val_accuracy: 0.0000e+00\n",
      "Epoch 13/20\n",
      "16/16 [==============================] - 0s 4ms/step - loss: 0.5837 - accuracy: 0.0000e+00 - val_loss: 0.5933 - val_accuracy: 0.0000e+00\n",
      "Epoch 14/20\n",
      "16/16 [==============================] - 0s 4ms/step - loss: 0.5809 - accuracy: 0.0000e+00 - val_loss: 0.5851 - val_accuracy: 0.0000e+00\n",
      "Epoch 15/20\n",
      "16/16 [==============================] - 0s 4ms/step - loss: 0.5814 - accuracy: 0.0000e+00 - val_loss: 0.5778 - val_accuracy: 0.0000e+00\n",
      "Epoch 16/20\n",
      "16/16 [==============================] - 0s 4ms/step - loss: 0.5678 - accuracy: 0.0000e+00 - val_loss: 0.5703 - val_accuracy: 0.0000e+00\n",
      "Epoch 17/20\n",
      "16/16 [==============================] - 0s 4ms/step - loss: 0.5749 - accuracy: 0.0000e+00 - val_loss: 0.5648 - val_accuracy: 0.0000e+00\n",
      "Epoch 18/20\n",
      "16/16 [==============================] - 0s 4ms/step - loss: 0.5593 - accuracy: 0.0000e+00 - val_loss: 0.5573 - val_accuracy: 0.0000e+00\n",
      "Epoch 19/20\n",
      "16/16 [==============================] - 0s 4ms/step - loss: 0.5598 - accuracy: 0.0000e+00 - val_loss: 0.5493 - val_accuracy: 0.0000e+00\n",
      "Epoch 20/20\n",
      "16/16 [==============================] - 0s 4ms/step - loss: 0.5584 - accuracy: 0.0000e+00 - val_loss: 0.5416 - val_accuracy: 0.0000e+00\n",
      "INFO:tensorflow:Assets written to: /tmp/tmpcioqrr0r/model/data/model/assets\n"
     ]
    }
   ],
   "source": [
    "with mlflow.start_run(run_name=\"keras_baseline\") as run:\n",
    "    model.fit(X_train, y_train, epochs=100, validation_split=0.05, shuffle=True)\n",
    "    preds = model.predict(X_test)\n",
    "    y_pred = np.where(preds>0.5, 1, 0)\n",
    "    f1 = f1_score(y_test, y_pred)\n",
    "    mlflow.log_metric(key=\"f1_experiement_score\", value=f1)\n",
    "    mlflow.log_artifact(\"keras_model.ipynb\")"
   ]
  },
  {
   "cell_type": "code",
   "execution_count": null,
   "metadata": {},
   "outputs": [],
   "source": []
  }
 ],
 "metadata": {
  "kernelspec": {
   "display_name": "Python 3",
   "language": "python",
   "name": "python3"
  },
  "language_info": {
   "codemirror_mode": {
    "name": "ipython",
    "version": 3
   },
   "file_extension": ".py",
   "mimetype": "text/x-python",
   "name": "python",
   "nbconvert_exporter": "python",
   "pygments_lexer": "ipython3",
   "version": "3.8.5"
  }
 },
 "nbformat": 4,
 "nbformat_minor": 4
}
